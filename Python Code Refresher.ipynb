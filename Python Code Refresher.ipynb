{
 "cells": [
  {
   "cell_type": "markdown",
   "metadata": {},
   "source": [
    "## Coding Refresher (GreatLearning Youtube Notes)"
   ]
  },
  {
   "cell_type": "markdown",
   "metadata": {},
   "source": [
    "* Basics of Python\n",
    "* Data Structures in Python\n",
    "* Numpy\n",
    "* Pandas\n",
    "* Matplotlib\n",
    "* Linear Regression\n",
    "* Logistic Regression\n",
    "* Naive Bayes Algorithm\n",
    "* Unsupervised learning\n",
    "* Concept of clustering\n",
    "* K-means & Hiearachical Clustering"
   ]
  },
  {
   "cell_type": "markdown",
   "metadata": {},
   "source": [
    "## Libraries I will be using frequently"
   ]
  },
  {
   "cell_type": "code",
   "execution_count": 17,
   "metadata": {},
   "outputs": [],
   "source": [
    "#Data Manipulation\n",
    "import numpy as np\n",
    "import pandas as pd\n",
    "\n",
    "#Data Vizualiation\n",
    "import matplotlib as plt\n",
    "\n",
    "#Machine learning\n",
    "import tensorflow as tf"
   ]
  },
  {
   "cell_type": "markdown",
   "metadata": {},
   "source": [
    "## Python Basics"
   ]
  },
  {
   "cell_type": "markdown",
   "metadata": {},
   "source": [
    "This script is just going to be a refresher of a bunch of Python Functionality to get better.\n",
    "\n",
    "* Variables in Python: Data/Values that can be stored in temporary storage spaces\n",
    "* Variable Types\n",
    "> * Integers \n",
    "> * Float\n",
    "> * Boolean\n",
    "> * String\n",
    "> * Complex"
   ]
  },
  {
   "cell_type": "code",
   "execution_count": 24,
   "metadata": {},
   "outputs": [
    {
     "name": "stdout",
     "output_type": "stream",
     "text": [
      "<class 'int'>\n",
      "<class 'float'>\n",
      "<class 'bool'>\n",
      "<class 'str'>\n",
      "<class 'complex'>\n"
     ]
    }
   ],
   "source": [
    "a  = 3\n",
    "b = 3.1\n",
    "c = True\n",
    "d = '3'\n",
    "e = 4 + 8j\n",
    "print(type(a))\n",
    "print(type(b))\n",
    "print(type(c))\n",
    "print(type(d))\n",
    "print(type(e))"
   ]
  },
  {
   "cell_type": "markdown",
   "metadata": {},
   "source": [
    "### Mathematic operations"
   ]
  },
  {
   "cell_type": "code",
   "execution_count": 25,
   "metadata": {},
   "outputs": [
    {
     "name": "stdout",
     "output_type": "stream",
     "text": [
      "30\n",
      "-10\n",
      "200\n",
      "100000000000000000000\n",
      "0.5\n"
     ]
    }
   ],
   "source": [
    "a = 10\n",
    "b = 20\n",
    "print(a+b)\n",
    "print(a-b)\n",
    "print(a*b)\n",
    "print(a**b)\n",
    "print(a/b)"
   ]
  },
  {
   "cell_type": "markdown",
   "metadata": {},
   "source": [
    "### Relational Operators\n",
    "\n",
    "Understanding relationship between two variables"
   ]
  },
  {
   "cell_type": "code",
   "execution_count": 40,
   "metadata": {},
   "outputs": [
    {
     "name": "stdout",
     "output_type": "stream",
     "text": [
      "False\n",
      "False\n",
      "True\n",
      "True\n",
      "False\n"
     ]
    },
    {
     "data": {
      "text/plain": [
       "True"
      ]
     },
     "execution_count": 40,
     "metadata": {},
     "output_type": "execute_result"
    }
   ],
   "source": [
    "print(a>b)\n",
    "print(a == b)\n",
    "print(a < b)\n",
    "print(a != b)\n",
    "print(a > b & a != 0)\n",
    "a < b | a != 0"
   ]
  },
  {
   "cell_type": "markdown",
   "metadata": {},
   "source": [
    "### Python Strings\n",
    "Single quotes, double quotes act the same triple quotes are multiline strings"
   ]
  },
  {
   "cell_type": "code",
   "execution_count": 50,
   "metadata": {},
   "outputs": [
    {
     "name": "stdout",
     "output_type": "stream",
     "text": [
      "python\n",
      "Logan\n",
      "needs\n",
      "35\n",
      "LOGAN NEEDS TO GET BETTER AT PYTHON\n",
      "logan needs to get better at python\n"
     ]
    }
   ],
   "source": [
    "a1 = \"Logan needs to get better at python\"\n",
    "print(a1[-6:])\n",
    "print(a1[:5])\n",
    "print(a1[6:11])\n",
    "print(len(a1))\n",
    "\n",
    "yella1 = a1.upper()\n",
    "whispera1 = a1.lower()\n",
    "print(yella1)\n",
    "print(whispera1)"
   ]
  },
  {
   "cell_type": "markdown",
   "metadata": {},
   "source": [
    "### Main data structures in Python are \n",
    "* Tuples: Ordered collection of elements enclosed within()  **Tuples are immutable** can't change elements within a tuple\n",
    "* Lists: List is an ordered collection of elements enclosed within []  **Lists are Mutable**\n",
    "* Dictionary: Is an unordered collection of key-value pairs enclosed with {} **Dictionary is mutable**\n",
    "* Sets: An Unordered and unindexed collectin of elements enclosed with {} **Duplicates are not allowed**"
   ]
  },
  {
   "cell_type": "code",
   "execution_count": 91,
   "metadata": {},
   "outputs": [
    {
     "name": "stdout",
     "output_type": "stream",
     "text": [
      "Tuples\n",
      "(1, 'a', True, 'b', 23.0)\n",
      "(True, 'b')\n",
      "23.0\n",
      "1\n",
      "           \n",
      "Lists\n",
      "[1, 'a', True, 'b', 26.0]\n",
      "['a', True]\n",
      "[1, 'a', 'Changing list', 'b', 26.0]\n",
      "[1, 'a', 'Changing list', 'b', 26.0, 'Additional Info']\n",
      "         \n",
      "Adding list within list\n",
      "[1, 'a', 'Changing list', 'b', 26.0, 'Additional Info', [1, 2, 3, 4]]\n",
      "\n",
      "Dictionary\n",
      "{'Clemson': 'National Champs', 'Ohio State': 'NFL Draft Factory', 'South Carolina': 'Toughest Schedule'}\n",
      "dict_keys(['Clemson', 'Ohio State', 'South Carolina'])\n",
      "dict_values(['National Champs', 'NFL Draft Factory', 'Toughest Schedule'])\n",
      "{'Clemson': 'National Champs 2018', 'Ohio State': 'NFL Draft Factory', 'South Carolina': 'Toughest Schedule'}\n",
      " \n",
      "Sets\n",
      "{1, 'a'}\n",
      "{1, 2.8, 'a'}\n",
      "{1, 2.8, 'New Element', 'a'}\n",
      "{1, 2.8, 'Not sure what the point of this is', 'a', 'Oh Well', 'New Element'}\n"
     ]
    }
   ],
   "source": [
    "#Tuples\n",
    "print('Tuples')\n",
    "tup1 = (1, 'a', True, 'b', 23.0)\n",
    "print(tup1)\n",
    "\n",
    "#Accessing individual elements as tuples\n",
    "print(tup1[2:4])\n",
    "print(tup1[-1])\n",
    "print(tup1[0])\n",
    "\n",
    "#Tuple objects won't support object assignement because they are immutable\n",
    "#tup1[1] = 'Test'\n",
    "\n",
    "print('           ')\n",
    "\n",
    "#Lists\n",
    "print('Lists')\n",
    "l1 = [1, 'a', True, 'b', 26.0]\n",
    "print(l1)\n",
    "print(l1[1:3])\n",
    "#Changing elements proving mutable\n",
    "l1[2] = 'Changing list'\n",
    "print(l1)\n",
    "#Adding elements is possible as well\n",
    "l1.append('Additional Info')\n",
    "print(l1)\n",
    "#Adding a list within a list\n",
    "print('         ')\n",
    "print('Adding list within list')\n",
    "l1.append([1,2,3,4])\n",
    "print(l1)\n",
    "print('')\n",
    "\n",
    "#Dictionary\n",
    "print('Dictionary')\n",
    "dic = {\"Clemson\": \"National Champs\", \"Ohio State\": \"NFL Draft Factory\", \"South Carolina\": \"Toughest Schedule\"}\n",
    "print(dic)\n",
    "#Access just the Keys\n",
    "print(dic.keys())\n",
    "print(dic.values())\n",
    "#Changing the values\n",
    "dic['Clemson'] = 'National Champs 2018'\n",
    "print(dic)\n",
    "print(' ')\n",
    "\n",
    "#Sets\n",
    "print('Sets')\n",
    "s1 = {1, 'a', True}\n",
    "print(s1)\n",
    "#Duplicates don't work\n",
    "s1 = {1, \"a\", 2.8, 1, 1, 1, \"a\"}\n",
    "print(s1)\n",
    "s1.add(\"New Element\")\n",
    "print(s1)\n",
    "s1.update([\"Not sure what the point of this is\", \"Oh Well\"])\n",
    "print(s1)"
   ]
  },
  {
   "cell_type": "markdown",
   "metadata": {},
   "source": [
    "### Flow Control Statements\n",
    "* If/Else Statements : Make a decision based on a condition\n",
    "> * Example: If Covid-19 has us under lockdown then I will be depressed else I'll be a normal person"
   ]
  },
  {
   "cell_type": "code",
   "execution_count": 113,
   "metadata": {},
   "outputs": [
    {
     "name": "stdout",
     "output_type": "stream",
     "text": [
      "I am depressed\n",
      "House party?\n",
      "Thanks Science\n",
      " \n",
      "If else using tuples & lists\n",
      "Clemson > Ohio State > Michigan\n",
      "['Clemson', 'The Ohio State', 'Michigan', 'USC']\n",
      "USC is in Southern California\n",
      "['Clemson', 'Ohio State', 'Michigan', 'USC']\n",
      " \n",
      "Conditions using dictionaries\n",
      "{'Panthers': 'Simmons', 'Giants': 'Okaduh', 'Redskins': 'Young', 'Falcons': 'Terrell'}\n",
      "{'Panthers': 'Wrong Pick', 'Giants': 'Okaduh', 'Redskins': 'Young', 'Falcons': 'Terrell'}\n"
     ]
    }
   ],
   "source": [
    "covid = True\n",
    "if (covid == 1):\n",
    "    print('I am depressed')\n",
    "    \n",
    "cured = True\n",
    "if (cured == 0):\n",
    "    print('I am depressed')\n",
    "else:\n",
    "    print('House party?')\n",
    "    \n",
    "if (covid == 0) & (cured == True):\n",
    "    print('House Party')\n",
    "elif(covid == 0) & (cured == 0):\n",
    "    print('Nature Correction')\n",
    "else:\n",
    "    print('Thanks Science')\n",
    "    \n",
    "print(' ' )\n",
    "\n",
    "print(\"If else using tuples & lists\")\n",
    "tuptest = (\"Clemson\", \"The Ohio State\", \"Michigan\", \"South Carolina\")\n",
    "if \"Michigan\" in tuptest:\n",
    "    print('Clemson > Ohio State > Michigan')\n",
    "\n",
    "l1 = ['Clemson', 'The Ohio State', 'Michigan', 'USC']\n",
    "print(l1)\n",
    "if l1[1] == 'The Ohio State':\n",
    "    l1[1] ='Ohio State'\n",
    "\n",
    "if l1[3] == 'USC':\n",
    "    print ('USC is in Southern California')\n",
    "\n",
    "print(l1)\n",
    "\n",
    "print(' ')\n",
    "print('Conditions using dictionaries')\n",
    "d1 = {'Panthers': 'Simmons', 'Giants': 'Okaduh', 'Redskins': 'Young', 'Falcons': 'Terrell'}\n",
    "print(d1)\n",
    "if d1['Panthers'] == 'Simmons':\n",
    "    d1['Panthers'] = 'Wrong Pick'\n",
    "elif df['Panthers' == 'Brown']:\n",
    "    d1['Panthers']  = 'Correct Pick'\n",
    "    \n",
    "print(d1)"
   ]
  },
  {
   "cell_type": "markdown",
   "metadata": {},
   "source": [
    "While statements can sometimes be valuable with iterations"
   ]
  },
  {
   "cell_type": "code",
   "execution_count": 119,
   "metadata": {},
   "outputs": [
    {
     "name": "stdout",
     "output_type": "stream",
     "text": [
      "1\n",
      "2\n",
      "3\n",
      "4\n",
      "5\n",
      " \n",
      "2  *  1  =  2\n",
      "2  *  2  =  4\n",
      "2  *  3  =  6\n",
      "2  *  4  =  8\n",
      "2  *  5  =  10\n",
      " \n",
      "[101, 102, 103, 104, 105]\n"
     ]
    }
   ],
   "source": [
    "i = 1\n",
    "while (i <= 5):\n",
    "    print(i)\n",
    "    i= i +1\n",
    "    \n",
    "print(' ')    \n",
    "a = 1\n",
    "b = 2\n",
    "while (a<= 5):\n",
    "    print(b, \" * \", a, \" = \", a*b)\n",
    "    a = a+1\n",
    "    \n",
    "print (' ')\n",
    "\n",
    "l2 =[1,2,3,4,5]\n",
    "i = 0 \n",
    "while i < len(l2):\n",
    "    l2[i] = l2[i] + 100\n",
    "    i  = i+1\n",
    "print(l2)\n",
    "    \n",
    "    "
   ]
  },
  {
   "cell_type": "markdown",
   "metadata": {},
   "source": [
    "### For Loops\n",
    "\n",
    "* Used to iterate over a sequence(tuple, list, dictionary..)\n",
    ">* for val in sequence: body of for"
   ]
  },
  {
   "cell_type": "code",
   "execution_count": 123,
   "metadata": {},
   "outputs": [
    {
     "name": "stdout",
     "output_type": "stream",
     "text": [
      "red\n",
      "blue\n",
      "green\n",
      " \n",
      "Nested For Loops\n",
      "red chair\n",
      "red couch\n",
      "red rug\n",
      "blue chair\n",
      "blue couch\n",
      "blue rug\n",
      "green chair\n",
      "green couch\n",
      "green rug\n"
     ]
    }
   ],
   "source": [
    "#Simplest example of iterating through a list\n",
    "l1= ['red', 'blue', 'green']\n",
    "for i in l1:\n",
    "    print(i)\n",
    "\n",
    "print(' ')\n",
    "print('Nested For Loops')\n",
    "color = ['red', 'blue', 'green']\n",
    "item = ['chair', 'couch', 'rug']\n",
    "#Iterates through the inner for loops on the first clause of the outer loop then repeats on outer loops\n",
    "for i in color:\n",
    "    for j in item:\n",
    "        print(i,j)"
   ]
  },
  {
   "cell_type": "markdown",
   "metadata": {},
   "source": [
    "### Python Functions\n",
    "* Function is a block of code which performs a specific task"
   ]
  },
  {
   "cell_type": "code",
   "execution_count": 128,
   "metadata": {},
   "outputs": [
    {
     "name": "stdout",
     "output_type": "stream",
     "text": [
      "60\n",
      " \n",
      "Odd and even function to determine which it is\n",
      "12 is even\n",
      "13 is odd\n",
      "1981 is odd\n"
     ]
    }
   ],
   "source": [
    "def add_10(x):\n",
    "    x = x + 10\n",
    "    return x\n",
    "\n",
    "print(add_10(50))\n",
    "\n",
    "\n",
    "print( ' ' )\n",
    "print('Odd and even function to determine which it is')\n",
    "\n",
    "def odd_even(x):\n",
    "    if x%2 == 0:\n",
    "        print(x, 'is even')\n",
    "    else:\n",
    "        print(x, 'is odd')\n",
    "        \n",
    "odd_even(12)\n",
    "odd_even(13)\n",
    "odd_even(1981)"
   ]
  },
  {
   "cell_type": "markdown",
   "metadata": {},
   "source": [
    "### Object Oriented Programming\n",
    "* Class is a template/blue-print for real-world entities\n",
    ">* Properities of a phone: Color, Cost, Battery Life\n",
    ">* Behavior: Make Calls, Watch Videos, Play Games\n",
    "\n",
    "\n",
    "* Objects are specific instances of a class say Apple, Motorola, Samsung.  Phone is the class.  All of these phones will have those properities associated with them and the common behaviors"
   ]
  },
  {
   "cell_type": "code",
   "execution_count": 134,
   "metadata": {},
   "outputs": [],
   "source": [
    "class Phone:\n",
    "    \n",
    "    def make_call(self):\n",
    "        print(\"Making a phone call\")\n",
    "        \n",
    "    def play_game(self):\n",
    "        print(\"Playing a game\")\n",
    "        \n",
    "    def add_color(self, color):\n",
    "        self.color = color\n",
    "    \n",
    "    def add_cost(self, cost):\n",
    "        self.cost=cost\n",
    "    \n",
    "    def show_color(self):\n",
    "        return self.color\n",
    "    \n",
    "    def show_cost(self):\n",
    "        return self.cost"
   ]
  },
  {
   "cell_type": "code",
   "execution_count": 135,
   "metadata": {},
   "outputs": [],
   "source": [
    "p1 = Phone()"
   ]
  },
  {
   "cell_type": "code",
   "execution_count": 139,
   "metadata": {},
   "outputs": [
    {
     "name": "stdout",
     "output_type": "stream",
     "text": [
      "Making a phone call\n",
      "Playing a game\n"
     ]
    },
    {
     "data": {
      "text/plain": [
       "200"
      ]
     },
     "execution_count": 139,
     "metadata": {},
     "output_type": "execute_result"
    }
   ],
   "source": [
    "p1.make_call()\n",
    "p1.play_game()\n",
    "p1.add_color('blue')\n",
    "p1.add_cost(200)\n",
    "p1.show_color()\n",
    "p1.show_cost()"
   ]
  },
  {
   "cell_type": "code",
   "execution_count": 140,
   "metadata": {},
   "outputs": [
    {
     "name": "stdout",
     "output_type": "stream",
     "text": [
      "black\n",
      "300\n"
     ]
    }
   ],
   "source": [
    "p2 = Phone()\n",
    "p2.add_color('black')\n",
    "p2.add_cost(300)\n",
    "print(p2.show_color())\n",
    "print(p2.show_cost())"
   ]
  },
  {
   "cell_type": "markdown",
   "metadata": {},
   "source": [
    "### Inhertiance\n",
    "* One class can derive the properities of another class"
   ]
  },
  {
   "cell_type": "code",
   "execution_count": 145,
   "metadata": {},
   "outputs": [],
   "source": [
    "class iPhone(Phone):\n",
    "    \n",
    "    def cure_cancer(self):\n",
    "        print(\"I can cure cancer\")"
   ]
  },
  {
   "cell_type": "code",
   "execution_count": 148,
   "metadata": {},
   "outputs": [],
   "source": [
    "ip1 = iPhone()\n",
    "ip1.add_color(\"Grey\")\n",
    "ip1.add_cost(899)"
   ]
  }
 ],
 "metadata": {
  "kernelspec": {
   "display_name": "Python 3",
   "language": "python",
   "name": "python3"
  },
  "language_info": {
   "codemirror_mode": {
    "name": "ipython",
    "version": 3
   },
   "file_extension": ".py",
   "mimetype": "text/x-python",
   "name": "python",
   "nbconvert_exporter": "python",
   "pygments_lexer": "ipython3",
   "version": "3.7.7"
  }
 },
 "nbformat": 4,
 "nbformat_minor": 4
}
